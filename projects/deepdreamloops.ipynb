{
 "cells": [
  {
   "cell_type": "markdown",
   "metadata": {
    "slideshow": {
     "slide_type": "skip"
    }
   },
   "source": [
    "jupyter nbconvert Documents\\mlart\\datafest\\projects\\deepdreamloops.ipynb --to slides --post serve"
   ]
  },
  {
   "cell_type": "markdown",
   "metadata": {
    "colab_type": "text",
    "id": "A2Q1W-gC0K0e",
    "slideshow": {
     "slide_type": "slide"
    }
   },
   "source": [
    "# 🤖📚🎨 Inside (Looping Deep Dreams)"
   ]
  },
  {
   "cell_type": "markdown",
   "metadata": {
    "slideshow": {
     "slide_type": "slide"
    }
   },
   "source": [
    "# What is Deep Dream?"
   ]
  },
  {
   "cell_type": "markdown",
   "metadata": {
    "slideshow": {
     "slide_type": "fragment"
    }
   },
   "source": [
    "<video src=\"img/deepdreamwebgl.mp4\"></video>"
   ]
  },
  {
   "cell_type": "markdown",
   "metadata": {
    "slideshow": {
     "slide_type": "slide"
    }
   },
   "source": [
    "### различные параметризации картинок\n",
    "https://distill.pub/2018/differentiable-parameterizations/\n",
    "\n",
    "<video src=\"img/cppn.mp4\"></video>\n",
    "\n",
    "\n",
    "### Самая свежая статья по теме \n",
    "\n",
    "https://distill.pub/2020/circuits/zoom-in/\n"
   ]
  },
  {
   "cell_type": "markdown",
   "metadata": {
    "colab_type": "text",
    "id": "Op7X3AMFvsza",
    "slideshow": {
     "slide_type": "slide"
    }
   },
   "source": [
    "# Inside: концепция\n",
    "![alt text](https://i.redd.it/b7ve5g37j0m41.jpg)\n",
    "\n"
   ]
  },
  {
   "cell_type": "code",
   "execution_count": 27,
   "metadata": {
    "slideshow": {
     "slide_type": "slide"
    }
   },
   "outputs": [
    {
     "data": {
      "text/html": [
       "<iframe width=\"800\" height=\"600\" src=\"https://www.youtube.com/embed/hjpFZoppcgM?start=126;controls=0&amp;showinfo=0\" frameborder=\"0\" allowfullscreen></iframe>"
      ],
      "text/plain": [
       "<IPython.core.display.HTML object>"
      ]
     },
     "execution_count": 27,
     "metadata": {},
     "output_type": "execute_result"
    }
   ],
   "source": [
    "from IPython.display import HTML\n",
    "HTML('<iframe width=\"800\" height=\"600\" src=\"https://www.youtube.com/embed/hjpFZoppcgM?start=126;controls=0&amp;showinfo=0\" frameborder=\"0\" allowfullscreen></iframe>')"
   ]
  },
  {
   "cell_type": "markdown",
   "metadata": {
    "colab_type": "text",
    "id": "HyvpmVKzvntr",
    "slideshow": {
     "slide_type": "skip"
    }
   },
   "source": [
    "# Inside: код"
   ]
  },
  {
   "cell_type": "markdown",
   "metadata": {
    "colab_type": "text",
    "id": "G657RYPnPj_t",
    "slideshow": {
     "slide_type": "skip"
    }
   },
   "source": [
    "Based on https://github.com/ml4a/ml4a-guides/blob/master/notebooks/neural-synth.ipynb by Gene Kogan\n",
    "\n",
    "a collection of feature vizualizations for googlenet can be found at https://distill.pub/2017/feature-visualization/appendix/\n",
    "\n",
    "\n",
    "\n"
   ]
  },
  {
   "cell_type": "code",
   "execution_count": 0,
   "metadata": {
    "colab": {
     "base_uri": "https://localhost:8080/",
     "height": 293
    },
    "colab_type": "code",
    "id": "DzyTpj-ln_LI",
    "outputId": "94aa07fc-f3b3-472b-d644-76194d65b4e1",
    "slideshow": {
     "slide_type": "skip"
    }
   },
   "outputs": [
    {
     "name": "stdout",
     "output_type": "stream",
     "text": [
      "--2020-01-27 11:37:38--  https://storage.googleapis.com/download.tensorflow.org/models/inception5h.zip\n",
      "Resolving storage.googleapis.com (storage.googleapis.com)... 173.194.69.128, 2a00:1450:4013:c00::80\n",
      "Connecting to storage.googleapis.com (storage.googleapis.com)|173.194.69.128|:443... connected.\n",
      "HTTP request sent, awaiting response... 200 OK\n",
      "Length: 49937555 (48M) [application/zip]\n",
      "Saving to: ‘./inception5h.zip’\n",
      "\n",
      "inception5h.zip     100%[===================>]  47.62M   153MB/s    in 0.3s    \n",
      "\n",
      "2020-01-27 11:37:44 (153 MB/s) - ‘./inception5h.zip’ saved [49937555/49937555]\n",
      "\n",
      "Archive:  inception5h.zip\n",
      "  inflating: inception5h/imagenet_comp_graph_label_strings.txt  \n",
      "  inflating: inception5h/tensorflow_inception_graph.pb  \n",
      "  inflating: inception5h/LICENSE     \n"
     ]
    }
   ],
   "source": [
    "  #Grab inception model from online and unzip it (you can skip this step if you've already downloaded the model.\n",
    "!wget -P . https://storage.googleapis.com/download.tensorflow.org/models/inception5h.zip\n",
    "!unzip inception5h.zip -d inception5h/\n",
    "!rm inception5h.zip"
   ]
  },
  {
   "cell_type": "code",
   "execution_count": 0,
   "metadata": {
    "colab": {
     "base_uri": "https://localhost:8080/",
     "height": 239
    },
    "colab_type": "code",
    "id": "LUShx5QdoLqe",
    "outputId": "46727a54-36c1-4a71-aff3-7d109e1099f7",
    "slideshow": {
     "slide_type": "skip"
    }
   },
   "outputs": [
    {
     "name": "stdout",
     "output_type": "stream",
     "text": [
      "--2020-01-27 11:37:50--  https://raw.githubusercontent.com/ml4a/ml4a-guides/master/notebooks/lapnorm.py\n",
      "Resolving raw.githubusercontent.com (raw.githubusercontent.com)... 151.101.0.133, 151.101.64.133, 151.101.128.133, ...\n",
      "Connecting to raw.githubusercontent.com (raw.githubusercontent.com)|151.101.0.133|:443... connected.\n",
      "HTTP request sent, awaiting response... 200 OK\n",
      "Length: 4608 (4.5K) [text/plain]\n",
      "Saving to: ‘lapnorm.py’\n",
      "\n",
      "\r",
      "lapnorm.py            0%[                    ]       0  --.-KB/s               \r",
      "lapnorm.py          100%[===================>]   4.50K  --.-KB/s    in 0s      \n",
      "\n",
      "2020-01-27 11:37:50 (128 MB/s) - ‘lapnorm.py’ saved [4608/4608]\n",
      "\n"
     ]
    }
   ],
   "source": [
    "# get some functions from ml4a repository\n",
    "!wget https://raw.githubusercontent.com/ml4a/ml4a-guides/master/notebooks/lapnorm.py"
   ]
  },
  {
   "cell_type": "code",
   "execution_count": 0,
   "metadata": {
    "colab": {
     "base_uri": "https://localhost:8080/",
     "height": 239
    },
    "colab_type": "code",
    "id": "tTxlzbqhzOkO",
    "outputId": "bf93c627-eecb-4d8e-bf30-7ddf7cb908b8",
    "slideshow": {
     "slide_type": "skip"
    }
   },
   "outputs": [
    {
     "name": "stdout",
     "output_type": "stream",
     "text": [
      "Collecting scipy==1.1.0\n",
      "\u001b[?25l  Downloading https://files.pythonhosted.org/packages/a8/0b/f163da98d3a01b3e0ef1cab8dd2123c34aee2bafbb1c5bffa354cc8a1730/scipy-1.1.0-cp36-cp36m-manylinux1_x86_64.whl (31.2MB)\n",
      "\u001b[K     |████████████████████████████████| 31.2MB 94kB/s \n",
      "\u001b[?25hRequirement already satisfied: numpy>=1.8.2 in /usr/local/lib/python3.6/dist-packages (from scipy==1.1.0) (1.17.5)\n",
      "\u001b[31mERROR: plotnine 0.6.0 has requirement scipy>=1.2.0, but you'll have scipy 1.1.0 which is incompatible.\u001b[0m\n",
      "\u001b[31mERROR: albumentations 0.1.12 has requirement imgaug<0.2.7,>=0.2.5, but you'll have imgaug 0.2.9 which is incompatible.\u001b[0m\n",
      "Installing collected packages: scipy\n",
      "  Found existing installation: scipy 1.4.1\n",
      "    Uninstalling scipy-1.4.1:\n",
      "      Successfully uninstalled scipy-1.4.1\n",
      "Successfully installed scipy-1.1.0\n"
     ]
    }
   ],
   "source": [
    "# install deprecated version of scipy\n",
    "!pip install scipy==1.1.0"
   ]
  },
  {
   "cell_type": "code",
   "execution_count": 0,
   "metadata": {
    "colab": {
     "base_uri": "https://localhost:8080/",
     "height": 341
    },
    "colab_type": "code",
    "id": "E0bO0A3sn_Lc",
    "outputId": "11ea2c1a-a9a9-4fa8-ff77-019f90ec8f74",
    "slideshow": {
     "slide_type": "skip"
    }
   },
   "outputs": [
    {
     "data": {
      "text/html": [
       "<p style=\"color: red;\">\n",
       "The default version of TensorFlow in Colab will soon switch to TensorFlow 2.x.<br>\n",
       "We recommend you <a href=\"https://www.tensorflow.org/guide/migrate\" target=\"_blank\">upgrade</a> now \n",
       "or ensure your notebook will continue to use TensorFlow 1.x via the <code>%tensorflow_version 1.x</code> magic:\n",
       "<a href=\"https://colab.research.google.com/notebooks/tensorflow_version.ipynb\" target=\"_blank\">more info</a>.</p>\n"
      ],
      "text/plain": [
       "<IPython.core.display.HTML object>"
      ]
     },
     "metadata": {
      "tags": []
     },
     "output_type": "display_data"
    },
    {
     "name": "stdout",
     "output_type": "stream",
     "text": [
      "WARNING:tensorflow:From /content/lapnorm.py:22: The name tf.InteractiveSession is deprecated. Please use tf.compat.v1.InteractiveSession instead.\n",
      "\n",
      "WARNING:tensorflow:From /content/lapnorm.py:23: FastGFile.__init__ (from tensorflow.python.platform.gfile) is deprecated and will be removed in a future version.\n",
      "Instructions for updating:\n",
      "Use tf.gfile.GFile.\n",
      "WARNING:tensorflow:From /content/lapnorm.py:24: The name tf.GraphDef is deprecated. Please use tf.compat.v1.GraphDef instead.\n",
      "\n",
      "WARNING:tensorflow:From /content/lapnorm.py:27: The name tf.placeholder is deprecated. Please use tf.compat.v1.placeholder instead.\n",
      "\n",
      "Number of layers 59\n",
      "Total number of feature channels: 7548\n",
      "WARNING:tensorflow:From /content/lapnorm.py:62: The name tf.image.resize_bilinear is deprecated. Please use tf.compat.v1.image.resize_bilinear instead.\n",
      "\n"
     ]
    }
   ],
   "source": [
    "from __future__ import print_function\n",
    "from io import BytesIO\n",
    "import math, time, copy, json, os\n",
    "import glob\n",
    "from os import listdir\n",
    "from os.path import isfile, join\n",
    "from random import random\n",
    "from io import BytesIO\n",
    "from enum import Enum\n",
    "from functools import partial\n",
    "import PIL.Image\n",
    "from IPython.display import clear_output, Image, display, HTML\n",
    "import numpy as np\n",
    "import scipy.misc\n",
    "import tensorflow as tf\n",
    "\n",
    "import imageio\n",
    "\n",
    "# import everything from lapnorm.py\n",
    "from lapnorm import *"
   ]
  },
  {
   "cell_type": "code",
   "execution_count": 0,
   "metadata": {
    "colab": {},
    "colab_type": "code",
    "id": "8SufJiHVUMro",
    "slideshow": {
     "slide_type": "skip"
    }
   },
   "outputs": [],
   "source": [
    "def save_image(name, im, fmt='jpeg'):\n",
    "    im = np.uint8(np.clip(im/255., 0, 1)*255)\n",
    "    with open('{}.jpg'.format(name), 'w') as f:\n",
    "      PIL.Image.fromarray(im).save(f, fmt)\n",
    "\n",
    "def dream(t_obj, img0, mask, iter_n=10, step=1.0, oct_n=3, oct_s=1.4, lap_n=4, clear=True, opt_resize=False):\n",
    "    mask_sizes = get_mask_sizes(mask.shape[0:2], oct_n, oct_s)\n",
    "    img0 = resize(img0, np.int32(mask_sizes[0])) \n",
    "    t_score = [tf.reduce_mean(t) for t in t_obj] # defining the optimization objective\n",
    "    t_grad = [tf.gradients(t, t_input)[0] for t in t_score] # behold the power of automatic differentiation!\n",
    "    # build the laplacian normalization graph\n",
    "    lap_norm_func = tffunc(np.float32)(partial(lap_normalize, scale_n=lap_n))\n",
    "    img = img0.copy()\n",
    "    for octave in range(oct_n):\n",
    "        if octave>0:\n",
    "            hw = mask_sizes[octave] #np.float32(img.shape[:2])*oct_s\n",
    "            img = resize(img, np.int32(hw))\n",
    "        oct_mask = resize(mask, np.int32(mask_sizes[octave]))\n",
    "        for i in range(iter_n):\n",
    "            g_tiled = [lap_norm_func(calc_grad_tiled(img, t)) for t in t_grad]\n",
    "            for g, gt in enumerate(g_tiled):\n",
    "                img += gt * step * oct_mask[:,:,g].reshape((oct_mask.shape[0],oct_mask.shape[1],1))\n",
    "            if opt_resize:\n",
    "              img = resize(img[crop_px:-crop_px,crop_px:-crop_px,:], (h, w)) \n",
    "              display_image(img)\n",
    "\n",
    "            print('.', end='')\n",
    "        print(\"octave %d/%d\"%(octave+1, oct_n))\n",
    "    if clear:\n",
    "        clear_output()\n",
    "    return img"
   ]
  },
  {
   "cell_type": "code",
   "execution_count": 0,
   "metadata": {
    "colab": {
     "base_uri": "https://localhost:8080/",
     "height": 219
    },
    "colab_type": "code",
    "id": "bIcUeAlJERl0",
    "outputId": "1c4d46ba-ac4f-4476-9d03-c8db2755b28c",
    "slideshow": {
     "slide_type": "skip"
    }
   },
   "outputs": [
    {
     "name": "stdout",
     "output_type": "stream",
     "text": [
      "--2020-01-27 11:38:07--  https://i.imgur.com/U53RWGZ.jpg\n",
      "Resolving i.imgur.com (i.imgur.com)... 151.101.36.193\n",
      "Connecting to i.imgur.com (i.imgur.com)|151.101.36.193|:443... connected.\n",
      "HTTP request sent, awaiting response... 200 OK\n",
      "Length: 12246 (12K) [image/jpeg]\n",
      "Saving to: ‘/content/blurred_circle.jpg’\n",
      "\n",
      "\r",
      "          /content/   0%[                    ]       0  --.-KB/s               \r",
      "/content/blurred_ci 100%[===================>]  11.96K  --.-KB/s    in 0s      \n",
      "\n",
      "2020-01-27 11:38:08 (133 MB/s) - ‘/content/blurred_circle.jpg’ saved [12246/12246]\n",
      "\n"
     ]
    }
   ],
   "source": [
    "!wget https://i.imgur.com/U53RWGZ.jpg --output-document /content/blurred_circle.jpg"
   ]
  },
  {
   "cell_type": "markdown",
   "metadata": {
    "colab_type": "text",
    "id": "rX37fm3VQbd0",
    "slideshow": {
     "slide_type": "skip"
    }
   },
   "source": [
    "## params\n",
    "\n"
   ]
  },
  {
   "cell_type": "code",
   "execution_count": 0,
   "metadata": {
    "colab": {
     "base_uri": "https://localhost:8080/",
     "height": 529
    },
    "colab_type": "code",
    "id": "cj3QkpbgL8rn",
    "outputId": "21f05116-f8f9-492e-d991-aaaa3c9871d7",
    "slideshow": {
     "slide_type": "slide"
    }
   },
   "outputs": [
    {
     "data": {
      "image/jpeg": "[encoded data removed]",
      "text/plain": [
       "<IPython.core.display.Image object>"
      ]
     },
     "metadata": {
      "tags": []
     },
     "output_type": "display_data"
    }
   ],
   "source": [
    "# SET \n",
    "\n",
    "h, w = 512, 512  # image size\n",
    "img0 = np.random.uniform(size=(h, w, 3)) + 100.0\n",
    "\n",
    "LEN = 90  # animation lenght in frames\n",
    "crop_px = 5  # from each side of the frame\n",
    "\n",
    "# upload black and white image to be used as mask\n",
    "mask_template = load_image('/content/blurred_circle.jpg', h, w)\n",
    "\n",
    "obj1 = ('mixed5b', 26)  # white objective\n",
    "obj2 = ('mixed3a', 5)  # black objective\n",
    "\n",
    "mask_template = mask_template[:,:,0]  # Will use only one channel for binary mask\n",
    "\n",
    "# VIZUALIZE\n",
    "display_image(mask_template)\n",
    "\n",
    "h, w = mask_template.shape\n",
    "\n",
    "mask = np.ones((h, w, 2))\n",
    "mask[:, :, 0] = mask_template / 255\n",
    "mask[:, :, 1] = 1.0 - (mask_template / 255)\n",
    "\n",
    "octave_n = 2\n",
    "octave_scale = 1.4\n",
    "objectives = [T(obj1[0])[:,:,:,obj1[1]], \n",
    "              T(obj2[0])[:,:,:,obj2[1]]]\n"
   ]
  },
  {
   "cell_type": "code",
   "execution_count": 0,
   "metadata": {
    "colab": {
     "base_uri": "https://localhost:8080/",
     "height": 529
    },
    "colab_type": "code",
    "id": "ERSC1ou8C99u",
    "outputId": "24acf090-ab50-488d-f9f4-f5d8445df3d7",
    "slideshow": {
     "slide_type": "slide"
    }
   },
   "outputs": [
    {
     "data": {
      "image/jpeg": "[encoded data removed]",
      "text/plain": [
       "<IPython.core.display.Image object>"
      ]
     },
     "metadata": {
      "tags": []
     },
     "output_type": "display_data"
    }
   ],
   "source": [
    "img = dream(objectives, img0, mask, iter_n=42, step=1.0, oct_n=octave_n, oct_s=1.4, lap_n=4)\n",
    "display_image(img) "
   ]
  },
  {
   "cell_type": "code",
   "execution_count": 0,
   "metadata": {
    "colab": {
     "base_uri": "https://localhost:8080/",
     "height": 35
    },
    "colab_type": "code",
    "id": "j7zZ0a8mlrM8",
    "outputId": "58e0785d-e0b6-4f46-b242-78033fe76a14",
    "slideshow": {
     "slide_type": "skip"
    }
   },
   "outputs": [
    {
     "name": "stdout",
     "output_type": "stream",
     "text": [
      "done\n"
     ]
    }
   ],
   "source": [
    "# repeat the generation loop 20 times. notice the feedback -- we make img and then use it the initial input \n",
    "for f in range(LEN):\n",
    "    print(\"iteration {}\".format(f))\n",
    "    img = dream(objectives, img, mask, iter_n=20, step=1.0, oct_n=octave_n, oct_s=octave_scale, lap_n=4)\n",
    "    # display_image(img)    # let's see it\n",
    "    save_image('frame%05d'%f, img)  # ffmpeg to save the frames\n",
    "    img = resize(img[crop_px:-crop_px,crop_px:-crop_px,:], (h, w))  # before looping back, crop the border by 10 pixels, resize, repeat\n",
    "\n",
    "print('done')"
   ]
  },
  {
   "cell_type": "markdown",
   "metadata": {
    "slideshow": {
     "slide_type": "slide"
    }
   },
   "source": [
    "<video src=\"img/video_3bpool_experiment93.mp4\"></video>"
   ]
  },
  {
   "cell_type": "code",
   "execution_count": 0,
   "metadata": {
    "colab": {},
    "colab_type": "code",
    "id": "3IZ-dermpoPB",
    "slideshow": {
     "slide_type": "skip"
    }
   },
   "outputs": [],
   "source": [
    "# making things loop\n",
    "\n",
    "# start the last frame, change it if your session crashed\n",
    "LAST_FRAME = LEN - 1\n",
    "\n",
    "if LAST_FRAME == LEN - 1:\n",
    "  START_FRAME = 0\n",
    "else:\n",
    "  START_FRAME = LAST_FRAME + 1\n",
    "\n",
    "img = imageio.imread('frame{:05d}.jpg'.format(LAST_FRAME))\n",
    "\n",
    "# space = np.cos(np.linspace(0, np.pi, LEN-1)) / 2 + 0.5\n",
    "space = np.linspace(1, 0, LEN - 1)\n",
    "\n",
    "\n",
    "for f in range(START_FRAME, LEN - 1):\n",
    "    print(\"iteration {}. using {} of prev and {} of next img\".format(f, space[f], 1 - space[f]))\n",
    "    try:\n",
    "      img_combined = img * space[f] + imageio.imread('frame{:05d}.jpg'.format(f+1)) * (1-space[f])\n",
    "      # display_image(img_combined)\n",
    "    except Exception as e:\n",
    "      print(e)\n",
    "      \n",
    "    img = dream(objectives, img_combined, mask, iter_n=20, step=1.0, oct_n=octave_n, oct_s=octave_scale, lap_n=4)\n",
    "    # display_image(img)    # let's see it\n",
    "    save_image('looped_frame%05d'%f, img)\n",
    "    \n",
    "    img = resize(img[crop_px:-crop_px,crop_px:-crop_px,:], (h, w)) \n",
    "\n"
   ]
  },
  {
   "cell_type": "code",
   "execution_count": null,
   "metadata": {
    "colab": {
     "base_uri": "https://localhost:8080/",
     "height": 937
    },
    "colab_type": "code",
    "id": "SNDtVMECqLhN",
    "outputId": "a09a533e-23d4-46c9-f9e2-d28a24ec7325",
    "slideshow": {
     "slide_type": "skip"
    }
   },
   "outputs": [],
   "source": [
    "!mv looped_frame00088.jpg unused_frame.jpg\n",
    "!ffmpeg -f image2 -r 30 -vb 20M -pattern_type glob -i 'looped_frame*.jpg' video.mp4"
   ]
  },
  {
   "cell_type": "markdown",
   "metadata": {
    "slideshow": {
     "slide_type": "slide"
    }
   },
   "source": [
    "<video src=\"img/4a460.mp4\"></video>"
   ]
  }
 ],
 "metadata": {
  "accelerator": "GPU",
  "celltoolbar": "Slideshow",
  "colab": {
   "collapsed_sections": [],
   "name": "ML ART: project presentation",
   "provenance": []
  },
  "kernelspec": {
   "display_name": "Python 3",
   "language": "python",
   "name": "python3"
  },
  "language_info": {
   "codemirror_mode": {
    "name": "ipython",
    "version": 3
   },
   "file_extension": ".py",
   "mimetype": "text/x-python",
   "name": "python",
   "nbconvert_exporter": "python",
   "pygments_lexer": "ipython3",
   "version": "3.7.6"
  }
 },
 "nbformat": 4,
 "nbformat_minor": 1
}
