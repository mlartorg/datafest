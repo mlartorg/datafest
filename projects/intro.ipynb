{
 "cells": [
  {
   "cell_type": "markdown",
   "metadata": {
    "slideshow": {
     "slide_type": "skip"
    }
   },
   "source": [
    "### to serve this as slides, run this\n",
    "`jupyter nbconvert Documents\\mlart\\datafest\\projects\\intro.ipynb --to slides --post serve`\n",
    "\n",
    "refer to this medium post for more info https://medium.com/@mjspeck/presenting-code-using-jupyter-notebook-slides-a8a3c3b59d67"
   ]
  },
  {
   "cell_type": "markdown",
   "metadata": {
    "colab_type": "text",
    "id": "A2Q1W-gC0K0e",
    "slideshow": {
     "slide_type": "slide"
    }
   },
   "source": [
    "# 🤖📚🎨 Machine Learning Art"
   ]
  },
  {
   "cell_type": "markdown",
   "metadata": {
    "colab_type": "text",
    "id": "IvHIYA7YwIKC",
    "slideshow": {
     "slide_type": "slide"
    }
   },
   "source": [
    "# Что такое медиаискусство? \n",
    "\n",
    "![alt text](img/planetarium_keanu.png)\n"
   ]
  },
  {
   "cell_type": "markdown",
   "metadata": {
    "slideshow": {
     "slide_type": "slide"
    }
   },
   "source": [
    "# Где посмотреть? \n",
    "- planetarium.one\n",
    "\n",
    "- hyport.ru\n",
    "\n",
    "- Галерея Марс"
   ]
  },
  {
   "cell_type": "markdown",
   "metadata": {
    "slideshow": {
     "slide_type": "fragment"
    }
   },
   "source": [
    "# онлайн 😷 \n",
    "\n",
    "www.generativegallery.com\n",
    "\n",
    "http://kzgallery.com/\n",
    "\n"
   ]
  },
  {
   "cell_type": "markdown",
   "metadata": {
    "slideshow": {
     "slide_type": "slide"
    }
   },
   "source": [
    "# Инструменты медиахудожников\n",
    "\n",
    "![](img/touchdesigner.jpg)"
   ]
  },
  {
   "cell_type": "markdown",
   "metadata": {
    "slideshow": {
     "slide_type": "fragment"
    }
   },
   "source": [
    "- Touchdesigner\n",
    "\n",
    "- Notch\n",
    "\n",
    "- OpenFrameworks\n",
    "\n",
    "- RunwayML"
   ]
  },
  {
   "cell_type": "markdown",
   "metadata": {
    "slideshow": {
     "slide_type": "slide"
    }
   },
   "source": [
    "# При чем тут машинное обучение? \n",
    "\n",
    "- почему интересно дата сайнтистам?\n",
    "\n",
    "- почему интересно художникам? \n",
    "\n",
    "- как им работать вместе? \n"
   ]
  },
  {
   "cell_type": "markdown",
   "metadata": {
    "colab_type": "text",
    "id": "UA2k5rbQwkVL",
    "slideshow": {
     "slide_type": "slide"
    }
   },
   "source": [
    "# Присоединяйтесь к проекту! \n",
    "\n",
    "Для участия, заполните анкету по ссылке: \n",
    "\n",
    "## [mlart.org/datafest](mlart.org/datafest)\n"
   ]
  }
 ],
 "metadata": {
  "accelerator": "GPU",
  "celltoolbar": "Slideshow",
  "colab": {
   "collapsed_sections": [],
   "name": "ML ART: project presentation",
   "provenance": []
  },
  "kernelspec": {
   "display_name": "Python 3",
   "language": "python",
   "name": "python3"
  },
  "language_info": {
   "codemirror_mode": {
    "name": "ipython",
    "version": 3
   },
   "file_extension": ".py",
   "mimetype": "text/x-python",
   "name": "python",
   "nbconvert_exporter": "python",
   "pygments_lexer": "ipython3",
   "version": "3.7.6"
  }
 },
 "nbformat": 4,
 "nbformat_minor": 1
}
